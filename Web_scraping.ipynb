{
 "cells": [
  {
   "cell_type": "code",
   "execution_count": 4,
   "id": "59ef46f2-79d1-4c76-96fb-8ce49bd9426d",
   "metadata": {},
   "outputs": [],
   "source": [
    "from bs4 import BeautifulSoup\n",
    "import requests\n",
    "import pandas as pd\n",
    "import numpy as np"
   ]
  },
  {
   "cell_type": "code",
   "execution_count": 11,
   "id": "ecebdd19-dc96-4a87-bca1-56bb22980a25",
   "metadata": {},
   "outputs": [],
   "source": [
    "URL = \"https://ecomideas.com/home-pages-nav\""
   ]
  },
  {
   "cell_type": "code",
   "execution_count": 12,
   "id": "609dddf9-3fd6-4685-94ba-43aab6561ab8",
   "metadata": {},
   "outputs": [],
   "source": [
    "HEADERS = ({'User-Agent': 'Mozilla/5.0 (Windows NT 10.0; Win64; x64) AppleWebKit/537.36 (KHTML, like Gecko) Chrome/126.0.0.0 Safari/537.36', 'Accept-Language' : 'en-US en;q=0.5'})"
   ]
  },
  {
   "cell_type": "code",
   "execution_count": 13,
   "id": "4afc656b-eb59-4d78-a4a2-e13079e2089f",
   "metadata": {},
   "outputs": [],
   "source": [
    "webpage =requests.get(URL, headers=HEADERS)"
   ]
  },
  {
   "cell_type": "code",
   "execution_count": 17,
   "id": "b3e32bba-a478-4e33-a179-89911f8ae1c4",
   "metadata": {},
   "outputs": [
    {
     "data": {
      "text/plain": [
       "<Response [200]>"
      ]
     },
     "execution_count": 17,
     "metadata": {},
     "output_type": "execute_result"
    }
   ],
   "source": [
    "webpage"
   ]
  },
  {
   "cell_type": "code",
   "execution_count": 5,
   "id": "dcdbcf19-4452-4964-ad96-b9ad8bc77d61",
   "metadata": {},
   "outputs": [
    {
     "name": "stdout",
     "output_type": "stream",
     "text": [
      "Data scraping and saving completed successfully.\n"
     ]
    }
   ],
   "source": [
    "\n",
    "def get_image_url(soup):\n",
    "    try:\n",
    "        image_tag = soup.find(\"img\", attrs={\"alt\": \"image\"})\n",
    "        image_url = image_tag['src']\n",
    "    except (AttributeError, TypeError):\n",
    "        image_url = \"\"\n",
    "    return image_url\n",
    "\n",
    "def get_image_description(soup):\n",
    "    try:\n",
    "        description = soup.find(\"p\", attrs={\"class\": \"notion-text notion-text__content notion-semantic-string\"}).get_text(separator=\" \").strip()\n",
    "    except AttributeError:\n",
    "        description = \"\"\n",
    "    return description\n",
    "\n",
    "if __name__ == '__main__':\n",
    "    HEADERS = ({\n",
    "        'User-Agent': 'Mozilla/5.0 (Windows NT 10.0; Win64; x64) AppleWebKit/537.36 (KHTML, like Gecko) Chrome/126.0.0.0 Safari/537.36', \n",
    "        'Accept-Language': 'en-US, en;q=0.5'\n",
    "    })\n",
    "\n",
    "    URL = \"https://ecomideas.com/home-pages-nav\"\n",
    "    webpage = requests.get(URL, headers=HEADERS)\n",
    "    soup = BeautifulSoup(webpage.content, \"html.parser\")\n",
    "    sub_links = soup.find_all(\"a\", attrs={'class': 'notion-link notion-collection-card__anchor'})\n",
    "    data = {\"image_url\": [], \"image_description\": []}\n",
    "\n",
    "    for sub_link in sub_links:\n",
    "        sub_page = requests.get(\"https://ecomideas.com\" + sub_link.get('href'), headers=HEADERS)\n",
    "        sub_soup = BeautifulSoup(sub_page.content, \"html.parser\")\n",
    "        data['image_url'].append(get_image_url(sub_soup))\n",
    "        data['image_description'].append(get_image_description(sub_soup))\n",
    "\n",
    "    ecomideas_df = pd.DataFrame.from_dict(data)\n",
    "    ecomideas_df['image_url'] = ecomideas_df['image_url'].replace('', pd.NA)\n",
    "    ecomideas_df = ecomideas_df.dropna(subset=['image_url'])\n",
    "\n",
    "    if not os.path.exists(\"ecomideas_data\"):\n",
    "        os.makedirs(\"ecomideas_data\")\n",
    "\n",
    "    filename = \"ecomideas_data/all_images_and_descriptions.xlsx\"\n",
    "    with pd.ExcelWriter(filename, engine='xlsxwriter') as writer:\n",
    "        ecomideas_df.to_excel(writer, sheet_name='Sheet1', index=False)\n",
    "        workbook = writer.book\n",
    "        worksheet = writer.sheets['Sheet1']\n",
    "        for idx, url in enumerate(ecomideas_df['image_url']):\n",
    "            worksheet.write_url(idx + 1, 0, url, string=\"Image Link\")\n",
    "\n",
    "    print(\"Data scraping and saving completed successfully.\")\n"
   ]
  },
  {
   "cell_type": "code",
   "execution_count": null,
   "id": "779872f1-8011-4885-85e6-072f3b9c19e0",
   "metadata": {},
   "outputs": [],
   "source": []
  },
  {
   "cell_type": "code",
   "execution_count": null,
   "id": "44a819d1-e8f9-4886-8440-00185e40cec5",
   "metadata": {},
   "outputs": [],
   "source": []
  }
 ],
 "metadata": {
  "kernelspec": {
   "display_name": "Python 3 (ipykernel)",
   "language": "python",
   "name": "python3"
  },
  "language_info": {
   "codemirror_mode": {
    "name": "ipython",
    "version": 3
   },
   "file_extension": ".py",
   "mimetype": "text/x-python",
   "name": "python",
   "nbconvert_exporter": "python",
   "pygments_lexer": "ipython3",
   "version": "3.12.4"
  }
 },
 "nbformat": 4,
 "nbformat_minor": 5
}
